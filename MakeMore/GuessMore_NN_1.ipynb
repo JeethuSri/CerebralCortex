{
 "cells": [
  {
   "cell_type": "markdown",
   "id": "d36602a6",
   "metadata": {},
   "source": [
    "## Understanding \" NEURAL PROBABILISTIC LANGUAGE MODEL \""
   ]
  },
  {
   "cell_type": "code",
   "execution_count": 2,
   "id": "0e98b6f4",
   "metadata": {},
   "outputs": [],
   "source": [
    "import torch\n",
    "import torch.nn.functional as F\n",
    "import matplotlib.pyplot as plt\n",
    "%matplotlib inline\n"
   ]
  },
  {
   "cell_type": "code",
   "execution_count": 3,
   "id": "19f999f0",
   "metadata": {},
   "outputs": [
    {
     "data": {
      "text/plain": [
       "['emma', 'olivia', 'ava', 'isabella', 'sophia', 'charlotte', 'mia', 'amelia']"
      ]
     },
     "execution_count": 3,
     "metadata": {},
     "output_type": "execute_result"
    }
   ],
   "source": [
    "\n",
    "\n",
    "# read in all the words\n",
    "words = open('names.txt', 'r').read().splitlines()\n",
    "words[:8]\n",
    "\n"
   ]
  },
  {
   "cell_type": "code",
   "execution_count": 4,
   "id": "a00887c2",
   "metadata": {},
   "outputs": [
    {
     "name": "stdout",
     "output_type": "stream",
     "text": [
      "{1: 'a', 2: 'b', 3: 'c', 4: 'd', 5: 'e', 6: 'f', 7: 'g', 8: 'h', 9: 'i', 10: 'j', 11: 'k', 12: 'l', 13: 'm', 14: 'n', 15: 'o', 16: 'p', 17: 'q', 18: 'r', 19: 's', 20: 't', 21: 'u', 22: 'v', 23: 'w', 24: 'x', 25: 'y', 26: 'z', 0: '.'}\n"
     ]
    }
   ],
   "source": [
    "# build the vocabulary of characters and mappings to/from integers\n",
    "chars = sorted(list(set(''.join(words))))\n",
    "stoi = {s:i+1 for i,s in enumerate(chars)}\n",
    "stoi['.'] = 0\n",
    "itos = {i:s for s,i in stoi.items()}\n",
    "print(itos)"
   ]
  },
  {
   "cell_type": "code",
   "execution_count": 10,
   "id": "765568bc",
   "metadata": {},
   "outputs": [],
   "source": [
    "# build the dataset\n",
    "\n",
    "block_size = 3 # context length: how many characters do we take to predict the next one?\n",
    "X, Y = [], []\n",
    "for w in words:\n",
    "  \n",
    "  #print(w)\n",
    "  context = [0] * block_size\n",
    "  \n",
    "  for ch in w + '.':\n",
    "    ix = stoi[ch]\n",
    "   \n",
    "    X.append(context)\n",
    "   \n",
    "    Y.append(ix)\n",
    "    #print(''.join(itos[i] for i in context), '--->', itos[ix])\n",
    "    context = context[1:] + [ix] # crop and append\n",
    "  \n",
    "X = torch.tensor(X)\n",
    "Y = torch.tensor(Y)"
   ]
  },
  {
   "cell_type": "code",
   "execution_count": 57,
   "id": "badba0b5",
   "metadata": {},
   "outputs": [
    {
     "name": "stdout",
     "output_type": "stream",
     "text": [
      "tensor([[ 0,  0,  0],\n",
      "        [ 0,  0,  5],\n",
      "        [ 0,  5, 13],\n",
      "        ...,\n",
      "        [26, 26, 25],\n",
      "        [26, 25, 26],\n",
      "        [25, 26, 24]])\n"
     ]
    }
   ],
   "source": [
    "X.shape, Y.shape\n",
    "print(X)\n"
   ]
  },
  {
   "cell_type": "code",
   "execution_count": 69,
   "id": "c56f6ac4",
   "metadata": {},
   "outputs": [
    {
     "data": {
      "text/plain": [
       "tensor(5)"
      ]
     },
     "execution_count": 69,
     "metadata": {},
     "output_type": "execute_result"
    }
   ],
   "source": [
    "X[1][2]"
   ]
  },
  {
   "cell_type": "code",
   "execution_count": 73,
   "id": "0f325b96",
   "metadata": {},
   "outputs": [
    {
     "data": {
      "text/plain": [
       "tensor([[[ 0.3039,  0.8955,  1.0232, -0.8745,  1.0886, -0.2092],\n",
       "         [ 0.3039,  0.8955,  1.0232, -0.8745,  1.0886, -0.2092],\n",
       "         [ 0.3039,  0.8955,  1.0232, -0.8745,  1.0886, -0.2092]],\n",
       "\n",
       "        [[ 0.3039,  0.8955,  1.0232, -0.8745,  1.0886, -0.2092],\n",
       "         [ 0.3039,  0.8955,  1.0232, -0.8745,  1.0886, -0.2092],\n",
       "         [-0.9541,  1.7158, -0.1388, -0.0129,  0.7623, -0.1952]],\n",
       "\n",
       "        [[ 0.3039,  0.8955,  1.0232, -0.8745,  1.0886, -0.2092],\n",
       "         [-0.9541,  1.7158, -0.1388, -0.0129,  0.7623, -0.1952],\n",
       "         [-0.9274,  1.0568, -1.3406,  0.8325,  0.8657, -0.9434]],\n",
       "\n",
       "        ...,\n",
       "\n",
       "        [[-0.6245,  0.6163,  0.2477,  0.0116,  0.7227, -0.1402],\n",
       "         [-0.6245,  0.6163,  0.2477,  0.0116,  0.7227, -0.1402],\n",
       "         [ 0.0648,  1.1934,  0.9448, -0.0524, -0.9263,  0.1483]],\n",
       "\n",
       "        [[-0.6245,  0.6163,  0.2477,  0.0116,  0.7227, -0.1402],\n",
       "         [ 0.0648,  1.1934,  0.9448, -0.0524, -0.9263,  0.1483],\n",
       "         [-0.6245,  0.6163,  0.2477,  0.0116,  0.7227, -0.1402]],\n",
       "\n",
       "        [[ 0.0648,  1.1934,  0.9448, -0.0524, -0.9263,  0.1483],\n",
       "         [-0.6245,  0.6163,  0.2477,  0.0116,  0.7227, -0.1402],\n",
       "         [-1.6749, -1.4203, -0.1391,  0.6746, -0.5016, -0.4113]]])"
      ]
     },
     "execution_count": 73,
     "metadata": {},
     "output_type": "execute_result"
    }
   ],
   "source": [
    "C = torch.randn((27,6))  # we are creating a less dimesion vector for inputing large amount of data\n",
    "C[X]"
   ]
  },
  {
   "cell_type": "code",
   "execution_count": 74,
   "id": "d8b39110",
   "metadata": {},
   "outputs": [
    {
     "data": {
      "text/plain": [
       "torch.Size([3, 3, 6])"
      ]
     },
     "execution_count": 74,
     "metadata": {},
     "output_type": "execute_result"
    }
   ],
   "source": [
    "emb = C[X]\n",
    "emb[:3].shape\n"
   ]
  },
  {
   "cell_type": "code",
   "execution_count": 77,
   "id": "b24b4c72",
   "metadata": {},
   "outputs": [],
   "source": [
    "W1 = torch.randn((18, 100))\n",
    "b1 = torch.randn(100)"
   ]
  },
  {
   "cell_type": "code",
   "execution_count": 78,
   "id": "17f46bb5",
   "metadata": {},
   "outputs": [],
   "source": [
    "h = torch.tanh(emb.view(-1, 18) @ W1 + b1)"
   ]
  },
  {
   "cell_type": "code",
   "execution_count": 79,
   "id": "f78bf439",
   "metadata": {},
   "outputs": [
    {
     "data": {
      "text/plain": [
       "torch.Size([228146, 100])"
      ]
     },
     "execution_count": 79,
     "metadata": {},
     "output_type": "execute_result"
    }
   ],
   "source": [
    "\n",
    "\n",
    "h.shape\n",
    "\n",
    "\n"
   ]
  },
  {
   "cell_type": "code",
   "execution_count": 80,
   "id": "0dca69b1",
   "metadata": {},
   "outputs": [],
   "source": [
    "\n",
    "\n",
    "W2 = torch.randn((100, 27))\n",
    "b2 = torch.randn(27)\n",
    "\n"
   ]
  },
  {
   "cell_type": "code",
   "execution_count": 81,
   "id": "d3c6dfac",
   "metadata": {},
   "outputs": [],
   "source": [
    "\n",
    "\n",
    "logits = h @ W2 + b2\n",
    "\n"
   ]
  },
  {
   "cell_type": "code",
   "execution_count": 82,
   "id": "1aec4f79",
   "metadata": {},
   "outputs": [
    {
     "data": {
      "text/plain": [
       "torch.Size([228146, 27])"
      ]
     },
     "execution_count": 82,
     "metadata": {},
     "output_type": "execute_result"
    }
   ],
   "source": [
    "\n",
    "\n",
    "logits.shape\n",
    "\n"
   ]
  },
  {
   "cell_type": "code",
   "execution_count": 83,
   "id": "7ebc4089",
   "metadata": {},
   "outputs": [
    {
     "data": {
      "text/plain": [
       "torch.Size([228146, 27])"
      ]
     },
     "execution_count": 83,
     "metadata": {},
     "output_type": "execute_result"
    }
   ],
   "source": [
    "counts = logits.exp()\n",
    "\n",
    "\n",
    "prob = counts / counts.sum(1, keepdims=True)\n",
    "\n",
    "\n",
    "\n",
    "prob.shape\n",
    "\n",
    "\n",
    "\n",
    "\n",
    "\n"
   ]
  },
  {
   "cell_type": "code",
   "execution_count": 84,
   "id": "9344c81d",
   "metadata": {},
   "outputs": [
    {
     "data": {
      "text/plain": [
       "tensor(18.5636)"
      ]
     },
     "execution_count": 84,
     "metadata": {},
     "output_type": "execute_result"
    }
   ],
   "source": [
    "loss = -prob[torch.arange(228146), Y].log().mean()\n",
    "loss"
   ]
  },
  {
   "cell_type": "code",
   "execution_count": null,
   "id": "38bf768c",
   "metadata": {},
   "outputs": [],
   "source": [
    "'''\n",
    "This loss is computationally better than the loss that we have calculated above because of \n",
    " --> less creation of tensors internally  \n",
    " --> It smoothens the tensors by subracting eith max tensor in that row to avoid the ouliers of large positive values\n",
    "\n",
    "'''\n",
    "\n",
    "loss = F.cross_entropy(logits, Y[ix])"
   ]
  }
 ],
 "metadata": {
  "kernelspec": {
   "display_name": "Python 3 (ipykernel)",
   "language": "python",
   "name": "python3"
  },
  "language_info": {
   "codemirror_mode": {
    "name": "ipython",
    "version": 3
   },
   "file_extension": ".py",
   "mimetype": "text/x-python",
   "name": "python",
   "nbconvert_exporter": "python",
   "pygments_lexer": "ipython3",
   "version": "3.10.9"
  }
 },
 "nbformat": 4,
 "nbformat_minor": 5
}
