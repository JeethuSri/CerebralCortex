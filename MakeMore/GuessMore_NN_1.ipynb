{
 "cells": [
  {
   "cell_type": "markdown",
   "id": "d36602a6",
   "metadata": {},
   "source": [
    "## Understanding \" NEURAL PROBABILISTIC LANGUAGE MODEL \""
   ]
  },
  {
   "cell_type": "code",
   "execution_count": 1,
   "id": "0e98b6f4",
   "metadata": {},
   "outputs": [],
   "source": [
    "import torch\n",
    "import torch.nn.functional as F\n",
    "import matplotlib.pyplot as plt\n",
    "%matplotlib inline\n"
   ]
  },
  {
   "cell_type": "code",
   "execution_count": 2,
   "id": "19f999f0",
   "metadata": {},
   "outputs": [
    {
     "data": {
      "text/plain": [
       "['emma', 'olivia', 'ava', 'isabella', 'sophia', 'charlotte', 'mia', 'amelia']"
      ]
     },
     "execution_count": 2,
     "metadata": {},
     "output_type": "execute_result"
    }
   ],
   "source": [
    "\n",
    "\n",
    "# read in all the words\n",
    "words = open('names.txt', 'r').read().splitlines()\n",
    "words[:8]\n",
    "\n"
   ]
  },
  {
   "cell_type": "code",
   "execution_count": 3,
   "id": "a00887c2",
   "metadata": {},
   "outputs": [
    {
     "name": "stdout",
     "output_type": "stream",
     "text": [
      "{1: 'a', 2: 'b', 3: 'c', 4: 'd', 5: 'e', 6: 'f', 7: 'g', 8: 'h', 9: 'i', 10: 'j', 11: 'k', 12: 'l', 13: 'm', 14: 'n', 15: 'o', 16: 'p', 17: 'q', 18: 'r', 19: 's', 20: 't', 21: 'u', 22: 'v', 23: 'w', 24: 'x', 25: 'y', 26: 'z', 0: '.'}\n"
     ]
    }
   ],
   "source": [
    "# build the vocabulary of characters and mappings to/from integers\n",
    "chars = sorted(list(set(''.join(words))))\n",
    "stoi = {s:i+1 for i,s in enumerate(chars)}\n",
    "stoi['.'] = 0\n",
    "itos = {i:s for s,i in stoi.items()}\n",
    "print(itos)"
   ]
  },
  {
   "cell_type": "code",
   "execution_count": 4,
   "id": "765568bc",
   "metadata": {},
   "outputs": [],
   "source": [
    "# build the dataset\n",
    "\n",
    "block_size = 3 # context length: how many characters do we take to predict the next one?\n",
    "X, Y = [], []\n",
    "for w in words:\n",
    "  \n",
    "  #print(w)\n",
    "  context = [0] * block_size\n",
    "  \n",
    "  for ch in w + '.':\n",
    "    ix = stoi[ch]\n",
    "   \n",
    "    X.append(context)\n",
    "   \n",
    "    Y.append(ix)\n",
    "    #print(''.join(itos[i] for i in context), '--->', itos[ix])\n",
    "    context = context[1:] + [ix] # crop and append\n",
    "  \n",
    "X = torch.tensor(X)\n",
    "Y = torch.tensor(Y)"
   ]
  },
  {
   "cell_type": "code",
   "execution_count": 5,
   "id": "badba0b5",
   "metadata": {},
   "outputs": [
    {
     "name": "stdout",
     "output_type": "stream",
     "text": [
      "tensor([[ 0,  0,  0],\n",
      "        [ 0,  0,  5],\n",
      "        [ 0,  5, 13],\n",
      "        ...,\n",
      "        [26, 26, 25],\n",
      "        [26, 25, 26],\n",
      "        [25, 26, 24]])\n"
     ]
    }
   ],
   "source": [
    "X.shape, Y.shape\n",
    "print(X)\n"
   ]
  },
  {
   "cell_type": "code",
   "execution_count": 6,
   "id": "c56f6ac4",
   "metadata": {},
   "outputs": [
    {
     "data": {
      "text/plain": [
       "tensor(5)"
      ]
     },
     "execution_count": 6,
     "metadata": {},
     "output_type": "execute_result"
    }
   ],
   "source": [
    "X[1][2]"
   ]
  },
  {
   "cell_type": "code",
   "execution_count": 7,
   "id": "0f325b96",
   "metadata": {},
   "outputs": [
    {
     "data": {
      "text/plain": [
       "tensor([[[-3.4699e-01, -3.8890e-01,  1.2909e+00,  6.3136e-01,  9.3143e-01,\n",
       "          -6.0442e-01],\n",
       "         [-3.4699e-01, -3.8890e-01,  1.2909e+00,  6.3136e-01,  9.3143e-01,\n",
       "          -6.0442e-01],\n",
       "         [-3.4699e-01, -3.8890e-01,  1.2909e+00,  6.3136e-01,  9.3143e-01,\n",
       "          -6.0442e-01]],\n",
       "\n",
       "        [[-3.4699e-01, -3.8890e-01,  1.2909e+00,  6.3136e-01,  9.3143e-01,\n",
       "          -6.0442e-01],\n",
       "         [-3.4699e-01, -3.8890e-01,  1.2909e+00,  6.3136e-01,  9.3143e-01,\n",
       "          -6.0442e-01],\n",
       "         [-4.1507e-01,  1.0066e+00, -1.8788e-01,  3.9494e-01,  6.2890e-01,\n",
       "          -4.9750e-01]],\n",
       "\n",
       "        [[-3.4699e-01, -3.8890e-01,  1.2909e+00,  6.3136e-01,  9.3143e-01,\n",
       "          -6.0442e-01],\n",
       "         [-4.1507e-01,  1.0066e+00, -1.8788e-01,  3.9494e-01,  6.2890e-01,\n",
       "          -4.9750e-01],\n",
       "         [-6.5308e-01, -1.8026e+00, -4.6173e-01,  1.9262e-01,  3.6286e-01,\n",
       "          -5.8848e-01]],\n",
       "\n",
       "        ...,\n",
       "\n",
       "        [[-1.0695e+00,  1.7101e+00, -7.1060e-01, -2.8857e-04, -3.9631e-01,\n",
       "          -2.4174e-02],\n",
       "         [-1.0695e+00,  1.7101e+00, -7.1060e-01, -2.8857e-04, -3.9631e-01,\n",
       "          -2.4174e-02],\n",
       "         [-1.0630e+00,  2.8328e+00,  6.7790e-01,  1.3480e+00,  3.2749e-01,\n",
       "           2.1958e+00]],\n",
       "\n",
       "        [[-1.0695e+00,  1.7101e+00, -7.1060e-01, -2.8857e-04, -3.9631e-01,\n",
       "          -2.4174e-02],\n",
       "         [-1.0630e+00,  2.8328e+00,  6.7790e-01,  1.3480e+00,  3.2749e-01,\n",
       "           2.1958e+00],\n",
       "         [-1.0695e+00,  1.7101e+00, -7.1060e-01, -2.8857e-04, -3.9631e-01,\n",
       "          -2.4174e-02]],\n",
       "\n",
       "        [[-1.0630e+00,  2.8328e+00,  6.7790e-01,  1.3480e+00,  3.2749e-01,\n",
       "           2.1958e+00],\n",
       "         [-1.0695e+00,  1.7101e+00, -7.1060e-01, -2.8857e-04, -3.9631e-01,\n",
       "          -2.4174e-02],\n",
       "         [ 4.5419e-01, -4.4819e-01, -1.0153e+00,  8.3078e-01, -1.9842e-01,\n",
       "           1.8940e+00]]])"
      ]
     },
     "execution_count": 7,
     "metadata": {},
     "output_type": "execute_result"
    }
   ],
   "source": [
    "C = torch.randn((27,6))  # we are creating a less dimesion vector for inputing large amount of data\n",
    "C[X]"
   ]
  },
  {
   "cell_type": "code",
   "execution_count": 26,
   "id": "d8b39110",
   "metadata": {},
   "outputs": [
    {
     "data": {
      "text/plain": [
       "torch.Size([3, 3, 6])"
      ]
     },
     "execution_count": 26,
     "metadata": {},
     "output_type": "execute_result"
    }
   ],
   "source": [
    "emb = C[X]\n",
    "emb[:3].shape\n",
    "\n"
   ]
  },
  {
   "cell_type": "code",
   "execution_count": 9,
   "id": "b24b4c72",
   "metadata": {},
   "outputs": [],
   "source": [
    "W1 = torch.randn((18, 100))\n",
    "b1 = torch.randn(100)"
   ]
  },
  {
   "cell_type": "code",
   "execution_count": 10,
   "id": "17f46bb5",
   "metadata": {},
   "outputs": [],
   "source": [
    "h = torch.tanh(emb.view(-1, 18) @ W1 + b1)"
   ]
  },
  {
   "cell_type": "code",
   "execution_count": 11,
   "id": "f78bf439",
   "metadata": {},
   "outputs": [
    {
     "data": {
      "text/plain": [
       "torch.Size([228146, 100])"
      ]
     },
     "execution_count": 11,
     "metadata": {},
     "output_type": "execute_result"
    }
   ],
   "source": [
    "\n",
    "\n",
    "h.shape\n",
    "\n",
    "\n"
   ]
  },
  {
   "cell_type": "code",
   "execution_count": 12,
   "id": "0dca69b1",
   "metadata": {},
   "outputs": [],
   "source": [
    "\n",
    "\n",
    "W2 = torch.randn((100, 27))\n",
    "b2 = torch.randn(27)\n",
    "\n"
   ]
  },
  {
   "cell_type": "code",
   "execution_count": 13,
   "id": "d3c6dfac",
   "metadata": {},
   "outputs": [],
   "source": [
    "\n",
    "\n",
    "logits = h @ W2 + b2\n",
    "\n"
   ]
  },
  {
   "cell_type": "code",
   "execution_count": 14,
   "id": "1aec4f79",
   "metadata": {},
   "outputs": [
    {
     "data": {
      "text/plain": [
       "torch.Size([228146, 27])"
      ]
     },
     "execution_count": 14,
     "metadata": {},
     "output_type": "execute_result"
    }
   ],
   "source": [
    "\n",
    "\n",
    "logits.shape\n",
    "\n"
   ]
  },
  {
   "cell_type": "code",
   "execution_count": 15,
   "id": "7ebc4089",
   "metadata": {},
   "outputs": [
    {
     "data": {
      "text/plain": [
       "torch.Size([228146, 27])"
      ]
     },
     "execution_count": 15,
     "metadata": {},
     "output_type": "execute_result"
    }
   ],
   "source": [
    "counts = logits.exp()\n",
    "\n",
    "\n",
    "prob = counts / counts.sum(1, keepdims=True)\n",
    "\n",
    "\n",
    "\n",
    "prob.shape\n",
    "\n",
    "\n",
    "\n",
    "\n",
    "\n"
   ]
  },
  {
   "cell_type": "code",
   "execution_count": 16,
   "id": "9344c81d",
   "metadata": {},
   "outputs": [
    {
     "data": {
      "text/plain": [
       "tensor(17.6727)"
      ]
     },
     "execution_count": 16,
     "metadata": {},
     "output_type": "execute_result"
    }
   ],
   "source": [
    "loss = -prob[torch.arange(228146), Y].log().mean()\n",
    "loss"
   ]
  },
  {
   "cell_type": "code",
   "execution_count": 21,
   "id": "6dfaf51f",
   "metadata": {},
   "outputs": [
    {
     "data": {
      "text/plain": [
       "torch.Size([228146, 27])"
      ]
     },
     "execution_count": 21,
     "metadata": {},
     "output_type": "execute_result"
    }
   ],
   "source": [
    "logits.shape\n"
   ]
  },
  {
   "cell_type": "code",
   "execution_count": 23,
   "id": "38bf768c",
   "metadata": {},
   "outputs": [
    {
     "data": {
      "text/plain": [
       "tensor(17.6727)"
      ]
     },
     "execution_count": 23,
     "metadata": {},
     "output_type": "execute_result"
    }
   ],
   "source": [
    "'''\n",
    "This loss is computationally better than the loss that we have calculated above because of \n",
    " --> less creation of tensors internally  \n",
    " --> It smoothens the tensors by subracting eith max tensor in that row to avoid the ouliers of large positive values\n",
    "\n",
    "'''\n",
    "loss = F.cross_entropy(logits, Y)\n",
    "loss"
   ]
  }
 ],
 "metadata": {
  "kernelspec": {
   "display_name": "Python 3 (ipykernel)",
   "language": "python",
   "name": "python3"
  },
  "language_info": {
   "codemirror_mode": {
    "name": "ipython",
    "version": 3
   },
   "file_extension": ".py",
   "mimetype": "text/x-python",
   "name": "python",
   "nbconvert_exporter": "python",
   "pygments_lexer": "ipython3",
   "version": "3.10.9"
  }
 },
 "nbformat": 4,
 "nbformat_minor": 5
}
